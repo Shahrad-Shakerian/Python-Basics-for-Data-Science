{
 "cells": [
  {
   "cell_type": "markdown",
   "id": "7db99009",
   "metadata": {},
   "source": [
    "# 1. List Comprehension"
   ]
  },
  {
   "cell_type": "markdown",
   "id": "cc309d93",
   "metadata": {},
   "source": [
    "Form of list comprehension:\n",
    "\n",
    "[x for x in 'source of list' if 'condition']"
   ]
  },
  {
   "cell_type": "code",
   "execution_count": 1,
   "id": "ff84f14e",
   "metadata": {},
   "outputs": [],
   "source": [
    "students = [\n",
    "    ['Harry',3.5,3,True],\n",
    "    ['Ron', 2.7,2,True],\n",
    "    ['Hermes',3.9,1,False],\n",
    "    ['Dan',2.9,4,True],\n",
    "    ['Chad',3.1,4,False]\n",
    "]"
   ]
  },
  {
   "cell_type": "code",
   "execution_count": 3,
   "id": "6e11ac9c",
   "metadata": {},
   "outputs": [
    {
     "data": {
      "text/plain": [
       "['Harry', 'Ron', 'Hermes', 'Dan', 'Chad']"
      ]
     },
     "execution_count": 3,
     "metadata": {},
     "output_type": "execute_result"
    }
   ],
   "source": [
    "#Goal: get the name of every student\n",
    "names = [student[0] for student in students]\n",
    "names"
   ]
  },
  {
   "cell_type": "code",
   "execution_count": 6,
   "id": "375c879f",
   "metadata": {},
   "outputs": [
    {
     "data": {
      "text/plain": [
       "[5, 3, 6, 3, 4]"
      ]
     },
     "execution_count": 6,
     "metadata": {},
     "output_type": "execute_result"
    }
   ],
   "source": [
    "# Goal: get the length of the name of each student\n",
    "len_names = [len(student[0]) for student in students]\n",
    "len_names"
   ]
  },
  {
   "cell_type": "code",
   "execution_count": 20,
   "id": "e5609e5f",
   "metadata": {},
   "outputs": [
    {
     "data": {
      "text/plain": [
       "['Dan', 'Chad']"
      ]
     },
     "execution_count": 20,
     "metadata": {},
     "output_type": "execute_result"
    }
   ],
   "source": [
    "#Goal: get the name of every student who is a 4th year\n",
    "fourth_year_students = [student[0] for student in students if student[2] == 4]\n",
    "fourth_year_students"
   ]
  },
  {
   "cell_type": "code",
   "execution_count": 23,
   "id": "38a37e73",
   "metadata": {},
   "outputs": [
    {
     "data": {
      "text/plain": [
       "[['Harry', 3.5, 3, True],\n",
       " ['Ron', 2.7, 2, True],\n",
       " ['Dan', 2.9, 4, True],\n",
       " ['Chad', 3.1, 4, False]]"
      ]
     },
     "execution_count": 23,
     "metadata": {},
     "output_type": "execute_result"
    }
   ],
   "source": [
    "#Goal: get every 4th year or in-state student\n",
    "fourth_year_or_instate = [student for student in students if(student[2] == 4 or student[3] == True)]\n",
    "fourth_year_or_instate"
   ]
  },
  {
   "cell_type": "markdown",
   "id": "d597baaf",
   "metadata": {},
   "source": [
    "### Nested comprehension list"
   ]
  },
  {
   "cell_type": "code",
   "execution_count": 28,
   "id": "ab7bae10",
   "metadata": {},
   "outputs": [
    {
     "data": {
      "text/plain": [
       "[[str, float, int, bool],\n",
       " [str, float, int, bool],\n",
       " [str, float, int, bool],\n",
       " [str, float, int, bool],\n",
       " [str, float, int, bool]]"
      ]
     },
     "execution_count": 28,
     "metadata": {},
     "output_type": "execute_result"
    }
   ],
   "source": [
    "#Goal: get the data type of each piece in 'students'\n",
    "students1 = [[type(item) for item in student] for student in students]\n",
    "students1"
   ]
  },
  {
   "cell_type": "code",
   "execution_count": 46,
   "id": "6b98a924",
   "metadata": {},
   "outputs": [
    {
     "name": "stdout",
     "output_type": "stream",
     "text": [
      "15.7 µs ± 1.43 µs per loop (mean ± std. dev. of 7 runs, 100000 loops each)\n"
     ]
    }
   ],
   "source": [
    "%%timeit\n",
    "import numpy as np\n",
    "l1 = np.array([1,2,3,4,5,6])\n",
    "l2 = l1 ** 2\n",
    "l3 = l2.sum()\n",
    "l4 = sum(l2)"
   ]
  },
  {
   "cell_type": "code",
   "execution_count": 40,
   "id": "fdff4c11",
   "metadata": {},
   "outputs": [
    {
     "data": {
      "text/plain": [
       "[4, 16, 36, 64, 100]"
      ]
     },
     "execution_count": 40,
     "metadata": {},
     "output_type": "execute_result"
    }
   ],
   "source": [
    "#Goal: get the square of each even integer between 2 and 10\n",
    "l1 = [x**2 for x in range(2,11) if x%2 == 0]\n",
    "l1"
   ]
  },
  {
   "cell_type": "code",
   "execution_count": 44,
   "id": "c7f2da19",
   "metadata": {},
   "outputs": [
    {
     "data": {
      "text/plain": [
       "[1, 2, 3, 4, 5, 6, 7, 8, 9]"
      ]
     },
     "execution_count": 44,
     "metadata": {},
     "output_type": "execute_result"
    }
   ],
   "source": [
    "#Goal: 'Flatten' the following matrix\n",
    "\n",
    "M = [[1,2,3],[4,5,6],[7,8,9]]\n",
    "M_flat = [item for row in M for item in row]\n",
    "M_flat"
   ]
  },
  {
   "cell_type": "markdown",
   "id": "a8527719",
   "metadata": {},
   "source": [
    "# 2. Dictionary = Hash Map = Hash Table\n",
    "\n",
    "### A way to quickly lookup a value given a key"
   ]
  },
  {
   "cell_type": "markdown",
   "id": "1a8aff9d",
   "metadata": {},
   "source": [
    "#### Why using dictionary is fast for looking up items?\n",
    "What does d['key'] do?\n",
    "Internally:\n",
    "(1) 'key' => [hash function h] => h('key')\n",
    "(2) h('key') maps to a memory location\n",
    "(3) the value of the key is at the same memory location\n",
    "\n",
    "So, the computational cost is O(1) for look up using dictionaries\n",
    "##### The location of the memory is important, not the number of items in the dictionary.\n",
    "##### Important note: if your problem is about looking up something with a key, dictionary is a good choice but if you need to sort things, dictionary is not a good choice."
   ]
  },
  {
   "cell_type": "markdown",
   "id": "d51ca2bd",
   "metadata": {},
   "source": [
    "### Implications\n",
    "Due to the memory location: The keys of a dictionary or hash map need to be immutable. So, they cannot be changed.\n",
    "\n",
    "Immutable data types are: int, float, string, tuple\n",
    "\n",
    "Mutable data types: list, set, dictionary"
   ]
  },
  {
   "cell_type": "markdown",
   "id": "f4763cde",
   "metadata": {},
   "source": [
    "#### Basic dictionary functions"
   ]
  },
  {
   "cell_type": "code",
   "execution_count": 49,
   "id": "319a069f",
   "metadata": {},
   "outputs": [],
   "source": [
    "d = {'red':[1,2,3,4], 'blue':4, 'black':(1,2,5)}"
   ]
  },
  {
   "cell_type": "code",
   "execution_count": 50,
   "id": "3b9ae60c",
   "metadata": {},
   "outputs": [
    {
     "data": {
      "text/plain": [
       "dict_keys(['red', 'blue', 'black'])"
      ]
     },
     "execution_count": 50,
     "metadata": {},
     "output_type": "execute_result"
    }
   ],
   "source": [
    "d.keys()"
   ]
  },
  {
   "cell_type": "code",
   "execution_count": 51,
   "id": "54264f55",
   "metadata": {},
   "outputs": [
    {
     "data": {
      "text/plain": [
       "dict_values([[1, 2, 3, 4], 4, (1, 2, 5)])"
      ]
     },
     "execution_count": 51,
     "metadata": {},
     "output_type": "execute_result"
    }
   ],
   "source": [
    "d.values()"
   ]
  },
  {
   "cell_type": "code",
   "execution_count": 52,
   "id": "fd7e151a",
   "metadata": {},
   "outputs": [
    {
     "data": {
      "text/plain": [
       "dict_items([('red', [1, 2, 3, 4]), ('blue', 4), ('black', (1, 2, 5))])"
      ]
     },
     "execution_count": 52,
     "metadata": {},
     "output_type": "execute_result"
    }
   ],
   "source": [
    "d.items()"
   ]
  },
  {
   "cell_type": "markdown",
   "id": "0ec16382",
   "metadata": {},
   "source": [
    "# 3. Vectorization"
   ]
  },
  {
   "cell_type": "markdown",
   "id": "568b3077",
   "metadata": {},
   "source": [
    "Vectorization tries to use the parallel computing capabilities. Vectorization functions apply to the entire list at the same time rather than applying on the elements one by one, which extensively speed up the computation.\n",
    "\n",
    "We use Numpy library in Python for vectorization because of three main properties:\n",
    "1. Parallel computation.\n",
    "2. Same data types of the list elements.\n",
    "3. Localization that uses the same area in the memory for the matrix.\n"
   ]
  },
  {
   "cell_type": "markdown",
   "id": "cff94fe8",
   "metadata": {},
   "source": [
    "#### Example 1. Adding two lists"
   ]
  },
  {
   "cell_type": "code",
   "execution_count": 2,
   "id": "172db005",
   "metadata": {},
   "outputs": [],
   "source": [
    "# Importing Numpy library\n",
    "import numpy as np"
   ]
  },
  {
   "cell_type": "code",
   "execution_count": 3,
   "id": "e1219cce",
   "metadata": {},
   "outputs": [],
   "source": [
    "# Create two random vectors\n",
    "n = 100000\n",
    "v1 = np.random.rand(n)\n",
    "v2 = np.random.rand(n)"
   ]
  },
  {
   "cell_type": "markdown",
   "id": "c432ac5d",
   "metadata": {},
   "source": [
    "##### Adding two lists elements without vectorization (using for loop) and compute the computational time"
   ]
  },
  {
   "cell_type": "code",
   "execution_count": 14,
   "id": "ca4975e4",
   "metadata": {},
   "outputs": [
    {
     "name": "stdout",
     "output_type": "stream",
     "text": [
      "40.1 ms ± 3.52 ms per loop (mean ± std. dev. of 7 runs, 10 loops each)\n"
     ]
    }
   ],
   "source": [
    "%%timeit\n",
    "sum_vectors = []\n",
    "for i in range(n):\n",
    "    sum_vectors.append(v1[i]+v2[i])"
   ]
  },
  {
   "cell_type": "markdown",
   "id": "becfc1bb",
   "metadata": {},
   "source": [
    "##### Adding two lists elements using vectorization\n",
    "\n",
    "It is not possible to use this method for regular lists in Python."
   ]
  },
  {
   "cell_type": "code",
   "execution_count": 21,
   "id": "552061d9",
   "metadata": {},
   "outputs": [
    {
     "name": "stdout",
     "output_type": "stream",
     "text": [
      "79.7 µs ± 8.72 µs per loop (mean ± std. dev. of 7 runs, 10000 loops each)\n"
     ]
    }
   ],
   "source": [
    "%%timeit\n",
    "sum_vectorized = v1 + v2"
   ]
  },
  {
   "cell_type": "markdown",
   "id": "e5b63918",
   "metadata": {},
   "source": [
    "#### Example2. Matrix Multiplication"
   ]
  },
  {
   "cell_type": "code",
   "execution_count": 24,
   "id": "f6652ac8",
   "metadata": {},
   "outputs": [],
   "source": [
    "n = 100\n",
    "A = np.random.rand(n,n)\n",
    "B = np.random.rand(n,n)\n",
    "C = np.zeros((n,n))"
   ]
  },
  {
   "cell_type": "markdown",
   "id": "79665fc9",
   "metadata": {},
   "source": [
    "##### Multiplying two matrix without using vectorization using for loops."
   ]
  },
  {
   "cell_type": "code",
   "execution_count": 29,
   "id": "b524bb09",
   "metadata": {},
   "outputs": [
    {
     "name": "stdout",
     "output_type": "stream",
     "text": [
      "358 ms ± 24.9 ms per loop (mean ± std. dev. of 7 runs, 1 loop each)\n"
     ]
    }
   ],
   "source": [
    "%%timeit\n",
    "for i in range(n):\n",
    "    row = A[i]\n",
    "    for j in range(n):\n",
    "        column = B[:,j]\n",
    "        sum1 = 0\n",
    "        for k in range(n):\n",
    "            sum1 += row[k] * column[k]\n",
    "        C[i,j] = sum1"
   ]
  },
  {
   "cell_type": "markdown",
   "id": "164dc887",
   "metadata": {},
   "source": [
    "##### Multiplying two matrix using vectorization."
   ]
  },
  {
   "cell_type": "code",
   "execution_count": 33,
   "id": "5257a66f",
   "metadata": {},
   "outputs": [
    {
     "name": "stdout",
     "output_type": "stream",
     "text": [
      "42.8 µs ± 2.91 µs per loop (mean ± std. dev. of 7 runs, 10000 loops each)\n"
     ]
    }
   ],
   "source": [
    "%%timeit\n",
    "C1 = np.dot(A,B)"
   ]
  },
  {
   "cell_type": "code",
   "execution_count": null,
   "id": "475bef98",
   "metadata": {},
   "outputs": [],
   "source": []
  }
 ],
 "metadata": {
  "kernelspec": {
   "display_name": "Python 3 (ipykernel)",
   "language": "python",
   "name": "python3"
  },
  "language_info": {
   "codemirror_mode": {
    "name": "ipython",
    "version": 3
   },
   "file_extension": ".py",
   "mimetype": "text/x-python",
   "name": "python",
   "nbconvert_exporter": "python",
   "pygments_lexer": "ipython3",
   "version": "3.9.7"
  }
 },
 "nbformat": 4,
 "nbformat_minor": 5
}
